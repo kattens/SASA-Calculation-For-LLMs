{
  "nbformat": 4,
  "nbformat_minor": 0,
  "metadata": {
    "colab": {
      "provenance": [],
      "mount_file_id": "1EOjLm2hfUsJ2ZgjsbgT_LnnvIvRdr6Ye",
      "authorship_tag": "ABX9TyPtsiI1091SZA0Q1bdlFlQb",
      "include_colab_link": true
    },
    "kernelspec": {
      "name": "python3",
      "display_name": "Python 3"
    },
    "language_info": {
      "name": "python"
    }
  },
  "cells": [
    {
      "cell_type": "markdown",
      "metadata": {
        "id": "view-in-github",
        "colab_type": "text"
      },
      "source": [
        "<a href=\"https://colab.research.google.com/github/kattens/SASA-Calculation-For-LLMs/blob/main/BioGrid_Extraction.ipynb\" target=\"_parent\"><img src=\"https://colab.research.google.com/assets/colab-badge.svg\" alt=\"Open In Colab\"/></a>"
      ]
    },
    {
      "cell_type": "code",
      "execution_count": 33,
      "metadata": {
        "id": "IcW3UEmlecSK"
      },
      "outputs": [],
      "source": [
        "import requests\n",
        "import zipfile\n",
        "import io\n",
        "import pandas as pd\n",
        "import os"
      ]
    },
    {
      "cell_type": "code",
      "source": [
        "def download_and_extract_biogrid(url, output_folder):\n",
        "    # Send a GET request to the URL\n",
        "    response = requests.get(url)\n",
        "    response.raise_for_status()  # Check if the download was successful\n",
        "\n",
        "    # Use io.BytesIO for in-memory bytes buffer (no need to save the file to disk)\n",
        "    zip_file_bytes = io.BytesIO(response.content)\n",
        "\n",
        "    # Extract the zip file\n",
        "    with zipfile.ZipFile(zip_file_bytes, 'r') as zip_ref:\n",
        "        zip_ref.extractall(output_folder)  # Extract all files into the specified folder\n",
        "\n",
        "def load_biogrid_file(file_path):\n",
        "    # Load the file into a pandas DataFrame, assuming tab-separated values\n",
        "    df = pd.read_csv(file_path, delimiter='\\t', low_memory=False)\n",
        "    return df\n",
        "\n",
        "# URL of the BioGRID ZIP file (replace 'YOUR_RELEASE_VERSION' with the correct version number)\n",
        "biogrid_url = 'https://downloads.thebiogrid.org/Download/BioGRID/Release-Archive/BIOGRID-4.4.241/BIOGRID-ALL-4.4.241.tab3.zip'\n",
        "\n",
        "# Folder where you want to extract the files\n",
        "output_folder = './biogrid_data'\n",
        "\n",
        "# Download and extract the files\n",
        "download_and_extract_biogrid(biogrid_url, output_folder)\n",
        "\n",
        "# Assuming the main data file follows a consistent naming pattern, update as needed\n",
        "data_file_path = './biogrid_data/BIOGRID-ALL-4.4.241.tab3.txt'\n",
        "\n",
        "# Load the data\n",
        "biogrid_data = load_biogrid_file(data_file_path)\n",
        "\n",
        "# Print the first few rows of the DataFrame\n",
        "print(biogrid_data.head())\n",
        "\n",
        "# Optionally, analyze or process the data further\n"
      ],
      "metadata": {
        "colab": {
          "base_uri": "https://localhost:8080/"
        },
        "id": "OShQKMqrhKdt",
        "outputId": "d9e88b12-febb-4bb8-b099-9797f77acbeb"
      },
      "execution_count": 26,
      "outputs": [
        {
          "output_type": "stream",
          "name": "stdout",
          "text": [
            "   #BioGRID Interaction ID Entrez Gene Interactor A Entrez Gene Interactor B  \\\n",
            "0                      103                     6416                     2318   \n",
            "1                      117                    84665                       88   \n",
            "2                      183                       90                     2339   \n",
            "3                      278                     2624                     5371   \n",
            "4                      418                     6118                     6774   \n",
            "\n",
            "   BioGRID ID Interactor A  BioGRID ID Interactor B  \\\n",
            "0                   112315                   108607   \n",
            "1                   124185                   106603   \n",
            "2                   106605                   108625   \n",
            "3                   108894                   111384   \n",
            "4                   112038                   112651   \n",
            "\n",
            "  Systematic Name Interactor A Systematic Name Interactor B  \\\n",
            "0                            -                            -   \n",
            "1                            -                            -   \n",
            "2                            -                            -   \n",
            "3                            -                            -   \n",
            "4                  RP4-547C9.3                            -   \n",
            "\n",
            "  Official Symbol Interactor A Official Symbol Interactor B  \\\n",
            "0                       MAP2K4                         FLNC   \n",
            "1                         MYPN                        ACTN2   \n",
            "2                        ACVR1                         FNTA   \n",
            "3                        GATA2                          PML   \n",
            "4                         RPA2                        STAT3   \n",
            "\n",
            "                               Synonyms Interactor A  ...  \\\n",
            "0  JNKK|JNKK1|MAPKK4|MEK4|MKK4|PRKMK4|SAPKK-1|SAP...  ...   \n",
            "1                             CMD1DD|CMH22|MYOP|RCM4  ...   \n",
            "2            ACTRI|ACVR1A|ACVRLK2|ALK2|FOP|SKR1|TSRI  ...   \n",
            "3                           DCML|IMD21|MONOMAC|NFE1B  ...   \n",
            "4                      REPA2|RP-A p32|RP-A p34|RPA32  ...   \n",
            "\n",
            "  TREMBL Accessions Interactor B  \\\n",
            "0                         Q59H94   \n",
            "1                  Q59FD9|F6THM6   \n",
            "2                              -   \n",
            "3                              -   \n",
            "4                              -   \n",
            "\n",
            "                      REFSEQ Accessions Interactor B Ontology Term IDs  \\\n",
            "0                             NP_001120959|NP_001449                 -   \n",
            "1                NP_001094|NP_001265272|NP_001265273                 -   \n",
            "2                                          NP_002018                 -   \n",
            "3  NP_150250|NP_150253|NP_150252|NP_150247|NP_150...                 -   \n",
            "4  NP_644805|NP_003141|NP_001356447|NP_001356443|...                 -   \n",
            "\n",
            "  Ontology Term Names Ontology Term Categories  Ontology Term Qualifier IDs  \\\n",
            "0                   -                        -                            -   \n",
            "1                   -                        -                            -   \n",
            "2                   -                        -                            -   \n",
            "3                   -                        -                            -   \n",
            "4                   -                        -                            -   \n",
            "\n",
            "   Ontology Term Qualifier Names Ontology Term Types  \\\n",
            "0                              -                   -   \n",
            "1                              -                   -   \n",
            "2                              -                   -   \n",
            "3                              -                   -   \n",
            "4                              -                   -   \n",
            "\n",
            "  Organism Name Interactor A Organism Name Interactor B  \n",
            "0               Homo sapiens               Homo sapiens  \n",
            "1               Homo sapiens               Homo sapiens  \n",
            "2               Homo sapiens               Homo sapiens  \n",
            "3               Homo sapiens               Homo sapiens  \n",
            "4               Homo sapiens               Homo sapiens  \n",
            "\n",
            "[5 rows x 37 columns]\n"
          ]
        }
      ]
    },
    {
      "cell_type": "code",
      "source": [
        "# Print all column names from the DataFrame\n",
        "print(biogrid_data.columns)\n"
      ],
      "metadata": {
        "colab": {
          "base_uri": "https://localhost:8080/"
        },
        "id": "seADJCHXlQzj",
        "outputId": "2fb039f6-c769-4439-a77f-a719323310eb"
      },
      "execution_count": 31,
      "outputs": [
        {
          "output_type": "stream",
          "name": "stdout",
          "text": [
            "Index(['#BioGRID Interaction ID', 'Entrez Gene Interactor A',\n",
            "       'Entrez Gene Interactor B', 'BioGRID ID Interactor A',\n",
            "       'BioGRID ID Interactor B', 'Systematic Name Interactor A',\n",
            "       'Systematic Name Interactor B', 'Official Symbol Interactor A',\n",
            "       'Official Symbol Interactor B', 'Synonyms Interactor A',\n",
            "       'Synonyms Interactor B', 'Experimental System',\n",
            "       'Experimental System Type', 'Author', 'Publication Source',\n",
            "       'Organism ID Interactor A', 'Organism ID Interactor B', 'Throughput',\n",
            "       'Score', 'Modification', 'Qualifications', 'Tags', 'Source Database',\n",
            "       'SWISS-PROT Accessions Interactor A', 'TREMBL Accessions Interactor A',\n",
            "       'REFSEQ Accessions Interactor A', 'SWISS-PROT Accessions Interactor B',\n",
            "       'TREMBL Accessions Interactor B', 'REFSEQ Accessions Interactor B',\n",
            "       'Ontology Term IDs', 'Ontology Term Names', 'Ontology Term Categories',\n",
            "       'Ontology Term Qualifier IDs', 'Ontology Term Qualifier Names',\n",
            "       'Ontology Term Types', 'Organism Name Interactor A',\n",
            "       'Organism Name Interactor B'],\n",
            "      dtype='object')\n"
          ]
        }
      ]
    },
    {
      "cell_type": "code",
      "source": [
        "# Basic statistics\n",
        "print(\"Number of entries:\", biogrid_data.shape[0])\n",
        "print(\"Number of unique interactions:\", biogrid_data['#BioGRID Interaction ID'].nunique())\n",
        "print(\"Number of unique proteins:\", pd.concat([biogrid_data['Entrez Gene Interactor A'], biogrid_data['Entrez Gene Interactor B']]).nunique())\n",
        "\n",
        "# Check for the presence of different interaction types\n",
        "print(\"Interaction types:\", biogrid_data['Experimental System Type'].unique())\n",
        "\n",
        "# Count interactions per organism using organism name instead of ID for clarity\n",
        "print(\"Interactions per organism:\", biogrid_data['Organism Name Interactor A'].value_counts())\n"
      ],
      "metadata": {
        "colab": {
          "base_uri": "https://localhost:8080/"
        },
        "id": "QyxaqhdZhkm1",
        "outputId": "38e5e264-5dcf-4a6d-9110-26ce91b52a95"
      },
      "execution_count": 32,
      "outputs": [
        {
          "output_type": "stream",
          "name": "stdout",
          "text": [
            "Number of entries: 2741240\n",
            "Number of unique interactions: 2741240\n",
            "Number of unique proteins: 90440\n",
            "Interaction types: ['physical' 'genetic']\n",
            "Interactions per organism: Organism Name Interactor A\n",
            "Homo sapiens                        1186561\n",
            "Saccharomyces cerevisiae (S288c)     857228\n",
            "Escherichia coli (K12/W3110)         210469\n",
            "Mus musculus                          99747\n",
            "Drosophila melanogaster               96712\n",
            "                                     ...   \n",
            "Human papillomavirus (7)                  1\n",
            "Sorghum bicolor                           1\n",
            "Escherichia coli (K12)                    1\n",
            "Myotis lucifugus                          1\n",
            "Vitis vinifera                            1\n",
            "Name: count, Length: 80, dtype: int64\n"
          ]
        }
      ]
    },
    {
      "cell_type": "code",
      "source": [
        "import networkx as nx\n",
        "\n",
        "# Create a graph\n",
        "G = nx.from_pandas_edgelist(biogrid_data, 'Entrez Gene Interactor A', 'Entrez Gene Interactor B')\n",
        "\n",
        "# Basic network statistics\n",
        "print(\"Number of nodes:\", G.number_of_nodes())\n",
        "print(\"Number of edges:\", G.number_of_edges())\n",
        "print(\"Connected components:\", nx.number_connected_components(G))\n",
        "\n",
        "# Degree distribution\n",
        "degrees = [G.degree(n) for n in G.nodes()]\n",
        "print(\"Average degree:\", sum(degrees) / len(degrees))\n",
        "\n",
        "# Centrality measures (example: Degree Centrality)\n",
        "degree_centrality = nx.degree_centrality(G)\n"
      ],
      "metadata": {
        "colab": {
          "base_uri": "https://localhost:8080/"
        },
        "id": "EzjVEPHgk21I",
        "outputId": "c7a456f2-f5a6-41f5-97c0-bba3a6c71bd2"
      },
      "execution_count": 28,
      "outputs": [
        {
          "output_type": "stream",
          "name": "stdout",
          "text": [
            "Number of nodes: 90440\n",
            "Number of edges: 2117621\n",
            "Connected components: 769\n",
            "Average degree: 46.82930119416188\n"
          ]
        }
      ]
    },
    {
      "cell_type": "code",
      "source": [],
      "metadata": {
        "id": "Txya3GeXlDah"
      },
      "execution_count": null,
      "outputs": []
    }
  ]
}